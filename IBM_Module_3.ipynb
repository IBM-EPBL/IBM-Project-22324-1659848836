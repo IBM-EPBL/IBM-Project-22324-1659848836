{
  "nbformat": 4,
  "nbformat_minor": 0,
  "metadata": {
    "colab": {
      "provenance": [],
      "collapsed_sections": []
    },
    "kernelspec": {
      "name": "python3",
      "display_name": "Python 3"
    },
    "language_info": {
      "name": "python"
    }
  },
  "cells": [
    {
      "cell_type": "code",
      "execution_count": null,
      "metadata": {
        "id": "eDIJYg7mZ77A"
      },
      "outputs": [],
      "source": [
        "#             Module 3 Python Assignment\n",
        "\n"
      ]
    },
    {
      "cell_type": "code",
      "source": [
        "#create a list\n",
        "\n",
        "list1=[4,5,2,8,10]"
      ],
      "metadata": {
        "id": "zEkXR7nKcz4u"
      },
      "execution_count": 1,
      "outputs": []
    },
    {
      "cell_type": "code",
      "source": [
        "#insert 11 at index 4\n",
        "list1.insert(4,11)"
      ],
      "metadata": {
        "id": "eUYxeUGWdFqL"
      },
      "execution_count": 2,
      "outputs": []
    },
    {
      "cell_type": "code",
      "source": [
        "print(list1)"
      ],
      "metadata": {
        "colab": {
          "base_uri": "https://localhost:8080/"
        },
        "id": "--XLPdOedVBs",
        "outputId": "f994f3b6-edef-47ab-acc7-21949452ba6e"
      },
      "execution_count": 3,
      "outputs": [
        {
          "output_type": "stream",
          "name": "stdout",
          "text": [
            "[4, 5, 2, 8, 11, 10]\n"
          ]
        }
      ]
    },
    {
      "cell_type": "code",
      "source": [
        "#remove an element\n",
        "list1.remove(2)\n",
        "print(list1)\n"
      ],
      "metadata": {
        "colab": {
          "base_uri": "https://localhost:8080/"
        },
        "id": "XF_v00_ldYEv",
        "outputId": "34d1284e-7f1f-4fd8-c0b9-73d764188c56"
      },
      "execution_count": 4,
      "outputs": [
        {
          "output_type": "stream",
          "name": "stdout",
          "text": [
            "[4, 5, 8, 11, 10]\n"
          ]
        }
      ]
    },
    {
      "cell_type": "code",
      "source": [],
      "metadata": {
        "id": "Q9o3-RWVdlkq"
      },
      "execution_count": null,
      "outputs": []
    }
  ]
}