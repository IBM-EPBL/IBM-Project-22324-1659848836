{
  "nbformat": 4,
  "nbformat_minor": 0,
  "metadata": {
    "colab": {
      "provenance": [],
      "collapsed_sections": []
    },
    "kernelspec": {
      "name": "python3",
      "display_name": "Python 3"
    },
    "language_info": {
      "name": "python"
    }
  },
  "cells": [
    {
      "cell_type": "code",
      "execution_count": null,
      "metadata": {
        "id": "eDIJYg7mZ77A"
      },
      "outputs": [],
      "source": [
        "#             Module 3 Python Assignment\n",
        "\n"
      ]
    },
    {
      "cell_type": "code",
      "source": [
        "#create a list\n",
        "\n",
        "list1=[4,5,2,8,10]"
      ],
      "metadata": {
        "id": "zEkXR7nKcz4u"
      },
      "execution_count": 1,
      "outputs": []
    },
    {
      "cell_type": "code",
      "source": [
        "#insert 11 at index 4\n",
        "list1.insert(4,11)"
      ],
      "metadata": {
        "id": "eUYxeUGWdFqL"
      },
      "execution_count": 2,
      "outputs": []
    },
    {
      "cell_type": "code",
      "source": [
        "print(list1)\n"
      ],
      "metadata": {
        "colab": {
          "base_uri": "https://localhost:8080/"
        },
        "id": "9pvXNMHheryc",
        "outputId": "b12ed221-73d0-4837-dbda-0516d72cbc51"
      },
      "execution_count": 4,
      "outputs": [
        {
          "output_type": "stream",
          "name": "stdout",
          "text": [
            "[4, 5, 2, 8, 11, 10]\n"
          ]
        }
      ]
    },
    {
      "cell_type": "code",
      "source": [
        "#removal of an element\n",
        "list1.remove(4)\n",
        "print(list1)"
      ],
      "metadata": {
        "colab": {
          "base_uri": "https://localhost:8080/"
        },
        "id": "iXT3zllgfCGl",
        "outputId": "2f4670c0-9356-4015-b979-edc36b5ed3a9"
      },
      "execution_count": 8,
      "outputs": [
        {
          "output_type": "stream",
          "name": "stdout",
          "text": [
            "[5, 8, 11, 10]\n"
          ]
        }
      ]
    },
    {
      "cell_type": "code",
      "source": [
        "#insert integer at the end of the list\n",
        "list1.append(2)\n",
        "print(list1)"
      ],
      "metadata": {
        "colab": {
          "base_uri": "https://localhost:8080/"
        },
        "id": "GkLVf-ZcfhYJ",
        "outputId": "fac52587-6f98-4745-d7cd-1eb891f2c153"
      },
      "execution_count": 9,
      "outputs": [
        {
          "output_type": "stream",
          "name": "stdout",
          "text": [
            "[5, 8, 11, 10, 2]\n"
          ]
        }
      ]
    },
    {
      "cell_type": "code",
      "source": [
        "#sort the list\n",
        "list1.sort()\n",
        "print(list1)"
      ],
      "metadata": {
        "colab": {
          "base_uri": "https://localhost:8080/"
        },
        "id": "5V1ZJ8nAfrWb",
        "outputId": "96c58629-49c7-4086-b6b6-2d5b1491fa4a"
      },
      "execution_count": 10,
      "outputs": [
        {
          "output_type": "stream",
          "name": "stdout",
          "text": [
            "[2, 5, 8, 10, 11]\n"
          ]
        }
      ]
    },
    {
      "cell_type": "code",
      "source": [
        "#pop the element\n",
        "list1.pop()\n",
        "print(list1)"
      ],
      "metadata": {
        "colab": {
          "base_uri": "https://localhost:8080/"
        },
        "id": "PQNH406sf0Qf",
        "outputId": "285c9353-95c4-4841-fe83-046ad4b35400"
      },
      "execution_count": 11,
      "outputs": [
        {
          "output_type": "stream",
          "name": "stdout",
          "text": [
            "[2, 5, 8, 10]\n"
          ]
        }
      ]
    },
    {
      "cell_type": "code",
      "source": [
        "#reverse the list\n",
        "list1.reverse()\n",
        "print(list1)"
      ],
      "metadata": {
        "colab": {
          "base_uri": "https://localhost:8080/"
        },
        "id": "f0RmId8egA5_",
        "outputId": "40883b0e-8ce7-4cdc-fb4e-a9724fccf708"
      },
      "execution_count": 12,
      "outputs": [
        {
          "output_type": "stream",
          "name": "stdout",
          "text": [
            "[10, 8, 5, 2]\n"
          ]
        }
      ]
    },
    {
      "cell_type": "code",
      "source": [
        "#program to make a simple calculator\n",
        "\n",
        "while True:\n",
        "   choice=input(\"Enter choice (1/2/3/4\")\n",
        "   if choice in('1','2','3','4'):\n",
        "      num1=float(input(\"Enter First number\"))\n",
        "      num2=float(input(\"Enter Second number\"))\n",
        "      if choice=='1':\n",
        "        print(num1,\"+\",num2,\"=\",num1+num2)\n",
        "      elif choice=='2':\n",
        "        print(num1,\"-\",num2,\"=\",num1-num2)\n",
        "      elif choice=='3':\n",
        "        print(num1,\"*\",num2,\"=\",num1*num2)\n",
        "      elif choice=='4':\n",
        "        print(num1,\"/\",num2,\"=\",num1/num2)\n",
        "      \n",
        "      next=input(\"Let's do next Calculation?Yes/No\")\n",
        "      if next==\"No\":\n",
        "        break\n",
        "   else:\n",
        "      print(\"Invalid Input\")\n",
        "\n"
      ],
      "metadata": {
        "colab": {
          "base_uri": "https://localhost:8080/"
        },
        "id": "2aSFMY_HgJX6",
        "outputId": "b9feadd4-0be6-4c07-dbee-cde99e7843f7"
      },
      "execution_count": 15,
      "outputs": [
        {
          "name": "stdout",
          "output_type": "stream",
          "text": [
            "Enter choice (1/2/3/41\n",
            "Enter First number5\n",
            "Enter Second number3\n",
            "5.0 + 3.0 = 8.0\n",
            "Let's do next Calculation?Yes/NoNo\n"
          ]
        }
      ]
    },
    {
      "cell_type": "code",
      "source": [
        "#Concatenation of String\n",
        "Str1=\"Python\"\n",
        "Str2=\"HelloWorld\"\n",
        "print(Str1+Str2)"
      ],
      "metadata": {
        "colab": {
          "base_uri": "https://localhost:8080/"
        },
        "id": "_ObS9hrMkbDK",
        "outputId": "6292af37-3261-4731-9d76-b4e87293b9e4"
      },
      "execution_count": 17,
      "outputs": [
        {
          "output_type": "stream",
          "name": "stdout",
          "text": [
            "PythonHelloWorld\n"
          ]
        }
      ]
    },
    {
      "cell_type": "code",
      "source": [
        "#Reverse a String\n",
        "txt=\"Hello World\"[::-1]\n",
        "print(txt)"
      ],
      "metadata": {
        "colab": {
          "base_uri": "https://localhost:8080/"
        },
        "id": "t3uDD07lksFO",
        "outputId": "7fc6672c-ddf3-4753-e4a0-03db483fc480"
      },
      "execution_count": 19,
      "outputs": [
        {
          "output_type": "stream",
          "name": "stdout",
          "text": [
            "dlroW olleH\n"
          ]
        }
      ]
    },
    {
      "cell_type": "code",
      "source": [
        "#Slice of a String\n",
        "str1=\"Hello World\"[6:11]\n",
        "print(str1)\n"
      ],
      "metadata": {
        "colab": {
          "base_uri": "https://localhost:8080/"
        },
        "id": "nEVlVSeTlFL1",
        "outputId": "3499be73-77b6-4ee5-a9bc-38081a7a8f93"
      },
      "execution_count": 20,
      "outputs": [
        {
          "output_type": "stream",
          "name": "stdout",
          "text": [
            "World\n"
          ]
        }
      ]
    },
    {
      "cell_type": "markdown",
      "source": [
        "Why is python a poopular programming Language?\n",
        "   \n",
        "\n",
        "*   Pyhton is easy to learn\n",
        "*  Python is flexible\n",
        "* Pyhton is efficient,fast and reliable\n",
        "*  Python has an active support community\n",
        "\n",
        "\n",
        "\n",
        "\n",
        "\n",
        "\n"
      ],
      "metadata": {
        "id": "Bfe5_I_jmucE"
      }
    },
    {
      "cell_type": "markdown",
      "source": [
        "what are the other frameworks that can be used with python\n",
        "\n",
        "\n",
        "1.   Bottle\n",
        "2.   Flask\n",
        "3.   Django\n",
        "4.   Web2py\n",
        "\n",
        "\n",
        "\n",
        "\n",
        "\n",
        "\n",
        "\n",
        "\n",
        "\n",
        "\n",
        "\n",
        "\n",
        "\n",
        "\n"
      ],
      "metadata": {
        "id": "WG0uCXnsn1jo"
      }
    },
    {
      "cell_type": "markdown",
      "source": [
        "Full Form of WSGI\n",
        "\n",
        "Web Server Gateway Interface.It is a simple calling convention for web servers to forward requests web applications or frameworks written in the pyhton programming language."
      ],
      "metadata": {
        "id": "YZ2yUTLSogRB"
      }
    }
  ]
}